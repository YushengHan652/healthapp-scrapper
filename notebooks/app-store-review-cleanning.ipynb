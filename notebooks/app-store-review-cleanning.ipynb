{
 "cells": [
  {
   "cell_type": "markdown",
   "metadata": {},
   "source": [
    "# CSV Cleanup and JSON Conversion\n",
    "\n",
    "This notebook processes the app store digital health app reviews CSV file to:\n",
    "1. Keep only app_name, title, score (rating), and review columns\n",
    "2. Filter out non-English content\n",
    "3. Convert the data to a specific JSON format"
   ]
  },
  {
   "cell_type": "code",
   "execution_count": 8,
   "metadata": {},
   "outputs": [],
   "source": [
    "# Import necessary libraries\n",
    "import pandas as pd\n",
    "import json\n",
    "import re\n",
    "import langdetect\n",
    "from langdetect import detect\n",
    "from tqdm.notebook import tqdm"
   ]
  },
  {
   "cell_type": "markdown",
   "metadata": {},
   "source": [
    "## Step 1: Load and Examine the CSV file"
   ]
  },
  {
   "cell_type": "code",
   "execution_count": 9,
   "metadata": {},
   "outputs": [
    {
     "name": "stdout",
     "output_type": "stream",
     "text": [
      "Total number of reviews: 3600\n"
     ]
    },
    {
     "data": {
      "text/html": [
       "<div>\n",
       "<style scoped>\n",
       "    .dataframe tbody tr th:only-of-type {\n",
       "        vertical-align: middle;\n",
       "    }\n",
       "\n",
       "    .dataframe tbody tr th {\n",
       "        vertical-align: top;\n",
       "    }\n",
       "\n",
       "    .dataframe thead th {\n",
       "        text-align: right;\n",
       "    }\n",
       "</style>\n",
       "<table border=\"1\" class=\"dataframe\">\n",
       "  <thead>\n",
       "    <tr style=\"text-align: right;\">\n",
       "      <th></th>\n",
       "      <th>date</th>\n",
       "      <th>review</th>\n",
       "      <th>rating</th>\n",
       "      <th>isEdited</th>\n",
       "      <th>title</th>\n",
       "      <th>userName</th>\n",
       "      <th>developerResponse</th>\n",
       "      <th>app_name</th>\n",
       "      <th>app_id</th>\n",
       "    </tr>\n",
       "  </thead>\n",
       "  <tbody>\n",
       "    <tr>\n",
       "      <th>0</th>\n",
       "      <td>2019-08-04 20:08:12</td>\n",
       "      <td>A great service providing a platform for succe...</td>\n",
       "      <td>5</td>\n",
       "      <td>False</td>\n",
       "      <td>App Review</td>\n",
       "      <td>SSJ Klahr</td>\n",
       "      <td>NaN</td>\n",
       "      <td>MyFitnessPal</td>\n",
       "      <td>341232718</td>\n",
       "    </tr>\n",
       "    <tr>\n",
       "      <th>1</th>\n",
       "      <td>2022-04-24 17:36:05</td>\n",
       "      <td>I really like this app. I use it for calorie c...</td>\n",
       "      <td>4</td>\n",
       "      <td>False</td>\n",
       "      <td>Great app but could use more user control of s...</td>\n",
       "      <td>georg-o</td>\n",
       "      <td>{'id': 29434530, 'body': 'Thank you for provid...</td>\n",
       "      <td>MyFitnessPal</td>\n",
       "      <td>341232718</td>\n",
       "    </tr>\n",
       "    <tr>\n",
       "      <th>2</th>\n",
       "      <td>2020-06-29 17:51:29</td>\n",
       "      <td>I’ve been using this app for years. There are ...</td>\n",
       "      <td>4</td>\n",
       "      <td>False</td>\n",
       "      <td>Gross Pictures with Ads but extensive database</td>\n",
       "      <td>AliHart1983</td>\n",
       "      <td>{'id': 28070018, 'body': 'Hi there! Our apolog...</td>\n",
       "      <td>MyFitnessPal</td>\n",
       "      <td>341232718</td>\n",
       "    </tr>\n",
       "    <tr>\n",
       "      <th>3</th>\n",
       "      <td>2024-06-21 09:54:51</td>\n",
       "      <td>I really love this app! It has helped me in so...</td>\n",
       "      <td>5</td>\n",
       "      <td>False</td>\n",
       "      <td>Love it! Have some suggestions:</td>\n",
       "      <td>Bmhz92</td>\n",
       "      <td>{'id': 44810091, 'body': 'Thank you for taking...</td>\n",
       "      <td>MyFitnessPal</td>\n",
       "      <td>341232718</td>\n",
       "    </tr>\n",
       "    <tr>\n",
       "      <th>4</th>\n",
       "      <td>2022-10-03 20:41:42</td>\n",
       "      <td>Several years ago, this app was the best out t...</td>\n",
       "      <td>2</td>\n",
       "      <td>False</td>\n",
       "      <td>No longer a good app</td>\n",
       "      <td>Artigius</td>\n",
       "      <td>{'id': 32395408, 'body': 'We are truly sorry f...</td>\n",
       "      <td>MyFitnessPal</td>\n",
       "      <td>341232718</td>\n",
       "    </tr>\n",
       "  </tbody>\n",
       "</table>\n",
       "</div>"
      ],
      "text/plain": [
       "                  date                                             review  \\\n",
       "0  2019-08-04 20:08:12  A great service providing a platform for succe...   \n",
       "1  2022-04-24 17:36:05  I really like this app. I use it for calorie c...   \n",
       "2  2020-06-29 17:51:29  I’ve been using this app for years. There are ...   \n",
       "3  2024-06-21 09:54:51  I really love this app! It has helped me in so...   \n",
       "4  2022-10-03 20:41:42  Several years ago, this app was the best out t...   \n",
       "\n",
       "   rating  isEdited                                              title  \\\n",
       "0       5     False                                         App Review   \n",
       "1       4     False  Great app but could use more user control of s...   \n",
       "2       4     False     Gross Pictures with Ads but extensive database   \n",
       "3       5     False                    Love it! Have some suggestions:   \n",
       "4       2     False                               No longer a good app   \n",
       "\n",
       "      userName                                  developerResponse  \\\n",
       "0    SSJ Klahr                                                NaN   \n",
       "1      georg-o  {'id': 29434530, 'body': 'Thank you for provid...   \n",
       "2  AliHart1983  {'id': 28070018, 'body': 'Hi there! Our apolog...   \n",
       "3       Bmhz92  {'id': 44810091, 'body': 'Thank you for taking...   \n",
       "4     Artigius  {'id': 32395408, 'body': 'We are truly sorry f...   \n",
       "\n",
       "       app_name     app_id  \n",
       "0  MyFitnessPal  341232718  \n",
       "1  MyFitnessPal  341232718  \n",
       "2  MyFitnessPal  341232718  \n",
       "3  MyFitnessPal  341232718  \n",
       "4  MyFitnessPal  341232718  "
      ]
     },
     "execution_count": 9,
     "metadata": {},
     "output_type": "execute_result"
    }
   ],
   "source": [
    "# Load the CSV file\n",
    "df = pd.read_csv('../data/interim/app_store_digital_health_app_reviews.csv')\n",
    "\n",
    "# Display the first few rows\n",
    "print(f\"Total number of reviews: {len(df)}\")\n",
    "df.head()"
   ]
  },
  {
   "cell_type": "markdown",
   "metadata": {},
   "source": [
    "## Step 2: Clean and Filter the Data"
   ]
  },
  {
   "cell_type": "code",
   "execution_count": 10,
   "metadata": {},
   "outputs": [
    {
     "name": "stdout",
     "output_type": "stream",
     "text": [
      "Remaining reviews after cleaning: 3600\n"
     ]
    },
    {
     "data": {
      "text/html": [
       "<div>\n",
       "<style scoped>\n",
       "    .dataframe tbody tr th:only-of-type {\n",
       "        vertical-align: middle;\n",
       "    }\n",
       "\n",
       "    .dataframe tbody tr th {\n",
       "        vertical-align: top;\n",
       "    }\n",
       "\n",
       "    .dataframe thead th {\n",
       "        text-align: right;\n",
       "    }\n",
       "</style>\n",
       "<table border=\"1\" class=\"dataframe\">\n",
       "  <thead>\n",
       "    <tr style=\"text-align: right;\">\n",
       "      <th></th>\n",
       "      <th>app_name</th>\n",
       "      <th>title</th>\n",
       "      <th>score</th>\n",
       "      <th>review</th>\n",
       "    </tr>\n",
       "  </thead>\n",
       "  <tbody>\n",
       "    <tr>\n",
       "      <th>0</th>\n",
       "      <td>MyFitnessPal</td>\n",
       "      <td>App Review</td>\n",
       "      <td>5</td>\n",
       "      <td>A great service providing a platform for succe...</td>\n",
       "    </tr>\n",
       "    <tr>\n",
       "      <th>1</th>\n",
       "      <td>MyFitnessPal</td>\n",
       "      <td>Great app but could use more user control of s...</td>\n",
       "      <td>4</td>\n",
       "      <td>I really like this app. I use it for calorie c...</td>\n",
       "    </tr>\n",
       "    <tr>\n",
       "      <th>2</th>\n",
       "      <td>MyFitnessPal</td>\n",
       "      <td>Gross Pictures with Ads but extensive database</td>\n",
       "      <td>4</td>\n",
       "      <td>I’ve been using this app for years. There are ...</td>\n",
       "    </tr>\n",
       "    <tr>\n",
       "      <th>3</th>\n",
       "      <td>MyFitnessPal</td>\n",
       "      <td>Love it! Have some suggestions:</td>\n",
       "      <td>5</td>\n",
       "      <td>I really love this app! It has helped me in so...</td>\n",
       "    </tr>\n",
       "    <tr>\n",
       "      <th>4</th>\n",
       "      <td>MyFitnessPal</td>\n",
       "      <td>No longer a good app</td>\n",
       "      <td>2</td>\n",
       "      <td>Several years ago, this app was the best out t...</td>\n",
       "    </tr>\n",
       "  </tbody>\n",
       "</table>\n",
       "</div>"
      ],
      "text/plain": [
       "       app_name                                              title  score  \\\n",
       "0  MyFitnessPal                                         App Review      5   \n",
       "1  MyFitnessPal  Great app but could use more user control of s...      4   \n",
       "2  MyFitnessPal     Gross Pictures with Ads but extensive database      4   \n",
       "3  MyFitnessPal                    Love it! Have some suggestions:      5   \n",
       "4  MyFitnessPal                               No longer a good app      2   \n",
       "\n",
       "                                              review  \n",
       "0  A great service providing a platform for succe...  \n",
       "1  I really like this app. I use it for calorie c...  \n",
       "2  I’ve been using this app for years. There are ...  \n",
       "3  I really love this app! It has helped me in so...  \n",
       "4  Several years ago, this app was the best out t...  "
      ]
     },
     "execution_count": 10,
     "metadata": {},
     "output_type": "execute_result"
    }
   ],
   "source": [
    "# Select only the columns we need\n",
    "df_clean = df[['app_name', 'title', 'rating', 'review']].copy()\n",
    "\n",
    "# Rename 'rating' to 'score' for clarity\n",
    "df_clean = df_clean.rename(columns={'rating': 'score'})\n",
    "\n",
    "# Drop rows with missing values\n",
    "df_clean = df_clean.dropna()\n",
    "\n",
    "# Reset index\n",
    "df_clean = df_clean.reset_index(drop=True)\n",
    "\n",
    "# Display the first few rows of cleaned data\n",
    "print(f\"Remaining reviews after cleaning: {len(df_clean)}\")\n",
    "df_clean.head()"
   ]
  },
  {
   "cell_type": "markdown",
   "metadata": {},
   "source": [
    "## Step 3: Filter for English Content\n",
    "\n",
    "We'll use the langdetect library to identify and keep only English content."
   ]
  },
  {
   "cell_type": "code",
   "execution_count": 11,
   "metadata": {},
   "outputs": [],
   "source": [
    "# Helper function to detect language with error handling\n",
    "def is_english(text):\n",
    "    if not isinstance(text, str) or text.strip() == '':\n",
    "        return False\n",
    "    try:\n",
    "        return detect(text) == 'en'\n",
    "    except:\n",
    "        return False"
   ]
  },
  {
   "cell_type": "code",
   "execution_count": 12,
   "metadata": {},
   "outputs": [
    {
     "name": "stdout",
     "output_type": "stream",
     "text": [
      "Filtering for English content...\n"
     ]
    },
    {
     "data": {
      "application/vnd.jupyter.widget-view+json": {
       "model_id": "40c72103c77c47999fc08a19424a2e5f",
       "version_major": 2,
       "version_minor": 0
      },
      "text/plain": [
       "Checking reviews:   0%|          | 0/2857 [00:00<?, ?it/s]"
      ]
     },
     "metadata": {},
     "output_type": "display_data"
    },
    {
     "name": "stdout",
     "output_type": "stream",
     "text": [
      "Remaining reviews after language filtering: 2856\n"
     ]
    },
    {
     "data": {
      "text/html": [
       "<div>\n",
       "<style scoped>\n",
       "    .dataframe tbody tr th:only-of-type {\n",
       "        vertical-align: middle;\n",
       "    }\n",
       "\n",
       "    .dataframe tbody tr th {\n",
       "        vertical-align: top;\n",
       "    }\n",
       "\n",
       "    .dataframe thead th {\n",
       "        text-align: right;\n",
       "    }\n",
       "</style>\n",
       "<table border=\"1\" class=\"dataframe\">\n",
       "  <thead>\n",
       "    <tr style=\"text-align: right;\">\n",
       "      <th></th>\n",
       "      <th>app_name</th>\n",
       "      <th>title</th>\n",
       "      <th>score</th>\n",
       "      <th>review</th>\n",
       "    </tr>\n",
       "  </thead>\n",
       "  <tbody>\n",
       "    <tr>\n",
       "      <th>0</th>\n",
       "      <td>MyFitnessPal</td>\n",
       "      <td>Great app but could use more user control of s...</td>\n",
       "      <td>4</td>\n",
       "      <td>I really like this app. I use it for calorie c...</td>\n",
       "    </tr>\n",
       "    <tr>\n",
       "      <th>1</th>\n",
       "      <td>MyFitnessPal</td>\n",
       "      <td>Gross Pictures with Ads but extensive database</td>\n",
       "      <td>4</td>\n",
       "      <td>I’ve been using this app for years. There are ...</td>\n",
       "    </tr>\n",
       "    <tr>\n",
       "      <th>2</th>\n",
       "      <td>MyFitnessPal</td>\n",
       "      <td>No longer a good app</td>\n",
       "      <td>2</td>\n",
       "      <td>Several years ago, this app was the best out t...</td>\n",
       "    </tr>\n",
       "    <tr>\n",
       "      <th>3</th>\n",
       "      <td>MyFitnessPal</td>\n",
       "      <td>Difficult to navigate</td>\n",
       "      <td>2</td>\n",
       "      <td>I consider myself very tech savvy and the user...</td>\n",
       "    </tr>\n",
       "    <tr>\n",
       "      <th>4</th>\n",
       "      <td>MyFitnessPal</td>\n",
       "      <td>Great App for someone with a disability</td>\n",
       "      <td>5</td>\n",
       "      <td>I have Limb Girdle Muscular Dystrophy, and I a...</td>\n",
       "    </tr>\n",
       "  </tbody>\n",
       "</table>\n",
       "</div>"
      ],
      "text/plain": [
       "       app_name                                              title  score  \\\n",
       "0  MyFitnessPal  Great app but could use more user control of s...      4   \n",
       "1  MyFitnessPal     Gross Pictures with Ads but extensive database      4   \n",
       "2  MyFitnessPal                               No longer a good app      2   \n",
       "3  MyFitnessPal                              Difficult to navigate      2   \n",
       "4  MyFitnessPal            Great App for someone with a disability      5   \n",
       "\n",
       "                                              review  \n",
       "0  I really like this app. I use it for calorie c...  \n",
       "1  I’ve been using this app for years. There are ...  \n",
       "2  Several years ago, this app was the best out t...  \n",
       "3  I consider myself very tech savvy and the user...  \n",
       "4  I have Limb Girdle Muscular Dystrophy, and I a...  "
      ]
     },
     "execution_count": 12,
     "metadata": {},
     "output_type": "execute_result"
    }
   ],
   "source": [
    "# Filter for English content only\n",
    "print(\"Filtering for English content...\")\n",
    "\n",
    "# To make processing faster, first check titles (which are shorter)\n",
    "english_title_mask = df_clean['title'].apply(is_english)\n",
    "df_english = df_clean[english_title_mask].copy()\n",
    "\n",
    "# Then check reviews (this might take a bit longer)\n",
    "# Using tqdm for progress tracking\n",
    "tqdm.pandas(desc=\"Checking reviews\")\n",
    "english_review_mask = df_english['review'].progress_apply(is_english)\n",
    "df_english = df_english[english_review_mask].copy()\n",
    "\n",
    "# Reset index\n",
    "df_english = df_english.reset_index(drop=True)\n",
    "\n",
    "print(f\"Remaining reviews after language filtering: {len(df_english)}\")\n",
    "df_english.head()"
   ]
  },
  {
   "cell_type": "markdown",
   "metadata": {},
   "source": [
    "## Step 4: Create the Required JSON Format\n",
    "\n",
    "The format should be:\n",
    "```\n",
    "{ \n",
    "app_name1: {[title1, score1, review1], [title2, score2, review2], [title3, score3, review3]},\n",
    "app_name2: {[title1, score1, review1], [title2, score2, review2], [title3, score3, review3]},\n",
    "app_name3: {[title1, score1, review1], [title2, score2, review2], [title3, score3, review3]},\n",
    "... \n",
    "}\n",
    "```"
   ]
  },
  {
   "cell_type": "code",
   "execution_count": 17,
   "metadata": {},
   "outputs": [
    {
     "name": "stdout",
     "output_type": "stream",
     "text": [
      "Total number of apps: 18\n",
      "Sample app: 7 Minute Workout\n",
      "Number of reviews for sample app: 155\n",
      "Sample title: This app is amazing!\n",
      "Sample review data: ['This app is amazing!', 5, 'This is one of the best apps I’ve ever gotten! And I’m not just saying that! I use it all the time and I used to do it with my parents all the time, I’m never one to get inn-app-purchases and even with out them this app is a great workout, I do a few of these a day, and they really work up a sweat and have me gasping for air at the end. It’s not on-going nor too long breaks, you can pause it if you need a longer break or need to take a quick one in-between the exercise, but I thing 10 morning minutes is the perfect amount of time to get a sip of water and prepare for the next exercise. I think this workout is effective, and it’s super quick and fun with quite a bit of variety and quick breaks in between therefore, even without the subscriptions this is probably the best workout app to use (keep in mind, this is just my opinion) if you want to save time and money, work out, and throw in some variety then this is CERTAINLY the app for you!\\n                Cheers,\\n                      FoxyPup9']\n"
     ]
    }
   ],
   "source": [
    "# Create the JSON structure\n",
    "result_dict = {}\n",
    "\n",
    "# Group by app_name\n",
    "for app_name, app_group in df_english.groupby('app_name'):\n",
    "    app_reviews = []\n",
    "    for _, row in app_group.iterrows():\n",
    "        app_reviews.append([row['title'], row['score'], row['review']])\n",
    "    \n",
    "    # Add to the result dictionary\n",
    "    result_dict[app_name] = app_reviews\n",
    "\n",
    "\n",
    "# Display sample of the result\n",
    "print(f\"Total number of apps: {len(result_dict)}\")\n",
    "sample_app = next(iter(result_dict))\n",
    "print(f\"Sample app: {sample_app}\")\n",
    "print(f\"Number of reviews for sample app: {len(result_dict[sample_app])}\")\n",
    "# Show the first review entry\n",
    "sample_title = result_dict[sample_app][0]  # Get the first review entry\n",
    "print(f\"Sample title: {sample_title[0]}\")  # Access the title from the list\n",
    "print(f\"Sample review data: {sample_title}\")  # Print the entire review data"
   ]
  },
  {
   "cell_type": "markdown",
   "metadata": {},
   "source": [
    "## Step 5: Save to JSON File"
   ]
  },
  {
   "cell_type": "code",
   "execution_count": null,
   "metadata": {},
   "outputs": [
    {
     "name": "stdout",
     "output_type": "stream",
     "text": [
      "Processed data saved to ../data/processed/app_store_reviews_processed.json\n"
     ]
    }
   ],
   "source": [
    "# Save the result to a JSON file\n",
    "output_filename = '../data/processed/app_store_reviews.json'\n",
    "\n",
    "with open(output_filename, 'w', encoding='utf-8') as f:\n",
    "    json.dump(result_dict, f, ensure_ascii=False, indent=4)\n",
    "\n",
    "print(f\"Processed data saved to {output_filename}\")"
   ]
  },
  {
   "cell_type": "markdown",
   "metadata": {},
   "source": [
    "## Step 6: Verify the JSON File (Optional)"
   ]
  },
  {
   "cell_type": "code",
   "execution_count": null,
   "metadata": {},
   "outputs": [],
   "source": [
    "# Load the JSON file to verify it\n",
    "with open(output_filename, 'r', encoding='utf-8') as f:\n",
    "    loaded_data = json.load(f)\n",
    "\n",
    "# Check if the loaded data matches our original result\n",
    "assert len(loaded_data) == len(result_dict), \"JSON file content doesn't match original data\"\n",
    "print(f\"Verification successful. JSON file contains data for {len(loaded_data)} apps.\")\n",
    "\n",
    "# Count total number of reviews\n",
    "total_reviews = sum(len(app_data) for app_data in loaded_data.values())\n",
    "print(f\"Total number of reviews in the final JSON: {total_reviews}\")"
   ]
  }
 ],
 "metadata": {
  "kernelspec": {
   "display_name": ".venv",
   "language": "python",
   "name": "python3"
  },
  "language_info": {
   "codemirror_mode": {
    "name": "ipython",
    "version": 3
   },
   "file_extension": ".py",
   "mimetype": "text/x-python",
   "name": "python",
   "nbconvert_exporter": "python",
   "pygments_lexer": "ipython3",
   "version": "3.13.2"
  }
 },
 "nbformat": 4,
 "nbformat_minor": 4
}
